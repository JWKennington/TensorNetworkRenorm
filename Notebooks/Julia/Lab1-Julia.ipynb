{
 "cells": [
  {
   "cell_type": "markdown",
   "metadata": {},
   "source": [
    "# Tensor Network Renormalization Group for the 2D Ising model"
   ]
  },
  {
   "cell_type": "code",
   "execution_count": 1,
   "metadata": {
    "ExecuteTime": {
     "end_time": "2019-06-12T17:19:45.987000-04:00",
     "start_time": "2019-06-12T21:19:36.520Z"
    }
   },
   "outputs": [],
   "source": [
    "using LinearAlgebra\n",
    "using Plots"
   ]
  },
  {
   "cell_type": "markdown",
   "metadata": {},
   "source": [
    "Define the basic functions for the Ising model"
   ]
  },
  {
   "cell_type": "markdown",
   "metadata": {},
   "source": [
    "Define Kronecker Delta"
   ]
  },
  {
   "cell_type": "code",
   "execution_count": 2,
   "metadata": {
    "ExecuteTime": {
     "end_time": "2019-06-12T17:19:54.173000-04:00",
     "start_time": "2019-06-12T21:19:46.899Z"
    }
   },
   "outputs": [
    {
     "data": {
      "text/plain": [
       "kronecker (generic function with 1 method)"
      ]
     },
     "execution_count": 2,
     "metadata": {},
     "output_type": "execute_result"
    }
   ],
   "source": [
    "function kronecker(i::Int, j::Int)::Int\n",
    "    if i == j\n",
    "        return 1\n",
    "    else\n",
    "        return 0 \n",
    "    end\n",
    "end"
   ]
  },
  {
   "cell_type": "code",
   "execution_count": 3,
   "metadata": {
    "ExecuteTime": {
     "end_time": "2019-06-12T17:19:55.018000-04:00",
     "start_time": "2019-06-12T21:19:47.983Z"
    }
   },
   "outputs": [
    {
     "data": {
      "text/plain": [
       "(1, 0)"
      ]
     },
     "execution_count": 3,
     "metadata": {},
     "output_type": "execute_result"
    }
   ],
   "source": [
    "kronecker(1, 1), kronecker(1, 0)"
   ]
  },
  {
   "cell_type": "markdown",
   "metadata": {},
   "source": [
    "Define the weight functions of Ising model"
   ]
  },
  {
   "cell_type": "markdown",
   "metadata": {},
   "source": [
    "$Z_2$ has two representations, $k=0$ and $k=1$. The weight on an edge is $\\cosh(\\beta)$ for $k=0$, $\\sinh(\\beta)$ for $k=1$."
   ]
  },
  {
   "cell_type": "code",
   "execution_count": 4,
   "metadata": {
    "ExecuteTime": {
     "end_time": "2019-06-12T17:19:55.230000-04:00",
     "start_time": "2019-06-12T21:19:50.753Z"
    }
   },
   "outputs": [
    {
     "data": {
      "text/plain": [
       "weight (generic function with 1 method)"
      ]
     },
     "execution_count": 4,
     "metadata": {},
     "output_type": "execute_result"
    }
   ],
   "source": [
    "function weight(beta::Float64, k::Int)::Float64\n",
    "    (1 - k) * cosh(beta) + k * sinh(beta)\n",
    "end"
   ]
  },
  {
   "cell_type": "code",
   "execution_count": 5,
   "metadata": {
    "ExecuteTime": {
     "end_time": "2019-06-12T17:19:55.873000-04:00",
     "start_time": "2019-06-12T21:19:51.184Z"
    }
   },
   "outputs": [
    {
     "data": {
      "text/plain": [
       "(1.0, 0.0)"
      ]
     },
     "execution_count": 5,
     "metadata": {},
     "output_type": "execute_result"
    }
   ],
   "source": [
    "weight(0.0, 0), weight(0.0, 1)"
   ]
  },
  {
   "cell_type": "markdown",
   "metadata": {},
   "source": [
    "Define the initial tensor"
   ]
  },
  {
   "cell_type": "markdown",
   "metadata": {},
   "source": [
    "The tensor is 4-valent, each edge carrying a representation of $Z_2$, and a square root of an edge weight (for $\\beta$ and $k$). On the vertex, we have a Kronecker Delta of the sum of the 4 representations meeting at the vertex modulo 2; if this sum is 1, it vanishes."
   ]
  },
  {
   "cell_type": "markdown",
   "metadata": {},
   "source": [
    "Note that Julia starts counting array indices with 1, not 0. You need to account for that."
   ]
  },
  {
   "cell_type": "code",
   "execution_count": 8,
   "metadata": {
    "ExecuteTime": {
     "end_time": "2019-06-12T17:21:12.651000-04:00",
     "start_time": "2019-06-12T21:21:12.581Z"
    }
   },
   "outputs": [
    {
     "data": {
      "text/plain": [
       "tensor (generic function with 2 methods)"
      ]
     },
     "execution_count": 8,
     "metadata": {},
     "output_type": "execute_result"
    }
   ],
   "source": [
    "function tensor(beta, m = 2)\n",
    "    array = zeros(m, m, m, m)\n",
    "    \n",
    "    for i in 1:m, j in 1:m, k in 1:m, l in 1:m\n",
    "        mask = kronecker((i + j + k + l) % m, 0)\n",
    "        array[i, j, k, l] = mask * sqrt(weight(beta, i - 1) * weight(beta, j - 1) * \n",
    "                                        weight(beta, k - 1) * weight(beta, l - 1))\n",
    "    end\n",
    "    array\n",
    "end"
   ]
  },
  {
   "cell_type": "code",
   "execution_count": 9,
   "metadata": {
    "ExecuteTime": {
     "end_time": "2019-06-12T17:21:13.958000-04:00",
     "start_time": "2019-06-12T21:21:13.914Z"
    }
   },
   "outputs": [
    {
     "data": {
      "text/plain": [
       "2×2×2×2 Array{Float64,4}:\n",
       "[:, :, 1, 1] =\n",
       " 2.3811  0.0    \n",
       " 0.0     1.81343\n",
       "\n",
       "[:, :, 2, 1] =\n",
       " 0.0      1.81343\n",
       " 1.81343  0.0    \n",
       "\n",
       "[:, :, 1, 2] =\n",
       " 0.0      1.81343\n",
       " 1.81343  0.0    \n",
       "\n",
       "[:, :, 2, 2] =\n",
       " 1.81343  0.0   \n",
       " 0.0      1.3811"
      ]
     },
     "execution_count": 9,
     "metadata": {},
     "output_type": "execute_result"
    }
   ],
   "source": [
    "t = tensor(1.0)"
   ]
  },
  {
   "cell_type": "code",
   "execution_count": 11,
   "metadata": {
    "ExecuteTime": {
     "end_time": "2019-06-12T17:21:25.453000-04:00",
     "start_time": "2019-06-12T21:21:25.037Z"
    }
   },
   "outputs": [
    {
     "data": {
      "text/plain": [
       "2"
      ]
     },
     "execution_count": 11,
     "metadata": {},
     "output_type": "execute_result"
    }
   ],
   "source": [
    "length(t[:,1,1,1])"
   ]
  },
  {
   "cell_type": "markdown",
   "metadata": {},
   "source": [
    "Splitting tensors for the singular value decomposition"
   ]
  },
  {
   "cell_type": "markdown",
   "metadata": {},
   "source": [
    "This will be similar to the introductory Julia File. We pair the indices of the tensor in the way we want to split it, and define a matrix. On this matrix we will apply a singular value decomposition, truncate here at 2 singular values, and define new 3-valent tensors from it."
   ]
  },
  {
   "cell_type": "markdown",
   "metadata": {},
   "source": [
    "Translating back just means splitting the combined index again into two separate ones."
   ]
  },
  {
   "cell_type": "markdown",
   "metadata": {},
   "source": [
    "The function should return two 3-valent tensors and a list of singular values."
   ]
  },
  {
   "cell_type": "markdown",
   "metadata": {},
   "source": [
    "Normalize the singular values with respect to the largest one (so the largest singular value is always one)."
   ]
  },
  {
   "cell_type": "code",
   "execution_count": null,
   "metadata": {},
   "outputs": [],
   "source": []
  },
  {
   "cell_type": "code",
   "execution_count": null,
   "metadata": {},
   "outputs": [],
   "source": []
  },
  {
   "cell_type": "markdown",
   "metadata": {},
   "source": [
    "We need to the same again, but this time for the other splitting."
   ]
  },
  {
   "cell_type": "code",
   "execution_count": null,
   "metadata": {},
   "outputs": [],
   "source": []
  },
  {
   "cell_type": "code",
   "execution_count": null,
   "metadata": {},
   "outputs": [],
   "source": []
  },
  {
   "cell_type": "code",
   "execution_count": null,
   "metadata": {},
   "outputs": [],
   "source": []
  },
  {
   "cell_type": "markdown",
   "metadata": {},
   "source": [
    "To get the new effective tensor, we now have to contract the fine degrees of freedom."
   ]
  },
  {
   "cell_type": "code",
   "execution_count": null,
   "metadata": {},
   "outputs": [],
   "source": []
  },
  {
   "cell_type": "code",
   "execution_count": null,
   "metadata": {},
   "outputs": [],
   "source": []
  },
  {
   "cell_type": "markdown",
   "metadata": {},
   "source": [
    "To compute the flow of renormalized tensors, we have to iterate these procedures a few times. We write this into a main function."
   ]
  },
  {
   "cell_type": "markdown",
   "metadata": {},
   "source": [
    "We have to specify the number of iterations of the algorithm, then define the initial tensor. We can pass $\\beta$ as a parameter of the main function."
   ]
  },
  {
   "cell_type": "markdown",
   "metadata": {},
   "source": [
    "Then we do a for loop, in which we do the first splitting, second splitting and then contract the new three valent tensor. Then we repeat.\n",
    "\n",
    "For each iteration we should store the singular values computed in the singular value decomposition. We will afterwards plot them to distinguish the phases of the Ising model and finding the phase transition."
   ]
  },
  {
   "cell_type": "code",
   "execution_count": null,
   "metadata": {},
   "outputs": [],
   "source": []
  },
  {
   "cell_type": "markdown",
   "metadata": {},
   "source": [
    "If it is running, try the algorithm for different initial values of $\\beta$ and look for a phase transition. The actual critical inverse temperature of the 2D square lattice Ising model is $\\beta_c \\approx 0.4406...$. The plot the singular values for different betas."
   ]
  },
  {
   "cell_type": "markdown",
   "metadata": {},
   "source": [
    "Plot the singular values, actually the second largest one. The x-axis is simply the iteration number."
   ]
  },
  {
   "cell_type": "code",
   "execution_count": null,
   "metadata": {},
   "outputs": [],
   "source": []
  }
 ],
 "metadata": {
  "@webio": {
   "lastCommId": null,
   "lastKernelId": null
  },
  "kernelspec": {
   "display_name": "Julia 1.1.1",
   "language": "julia",
   "name": "julia-1.1"
  },
  "language_info": {
   "file_extension": ".jl",
   "mimetype": "application/julia",
   "name": "julia",
   "version": "1.1.1"
  }
 },
 "nbformat": 4,
 "nbformat_minor": 2
}
