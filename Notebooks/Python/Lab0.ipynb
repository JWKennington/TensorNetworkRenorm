{
 "cells": [
  {
   "cell_type": "markdown",
   "metadata": {},
   "source": [
    "# Testing Python - first steps using linear algebra"
   ]
  },
  {
   "cell_type": "markdown",
   "metadata": {},
   "source": [
    "By convention, we import packages at the top of the file"
   ]
  },
  {
   "cell_type": "code",
   "execution_count": 6,
   "metadata": {
    "ExecuteTime": {
     "end_time": "2019-06-08T18:52:50.382362Z",
     "start_time": "2019-06-08T18:52:48.593126Z"
    }
   },
   "outputs": [],
   "source": [
    "import matplotlib.pyplot as plt\n",
    "import numpy\n",
    "import julialg\n",
    "numpy.set_printoptions(linewidth=200, precision=5, floatmode='fixed', suppress=True, )"
   ]
  },
  {
   "cell_type": "markdown",
   "metadata": {},
   "source": [
    "In the computing lab on tensor network renormalization, we will define tensors as multidimensional arrays. Here is 4-dimensional example."
   ]
  },
  {
   "cell_type": "markdown",
   "metadata": {},
   "source": [
    "That way we also see how to define a function."
   ]
  },
  {
   "cell_type": "code",
   "execution_count": 3,
   "metadata": {
    "ExecuteTime": {
     "end_time": "2019-06-08T18:52:51.573542Z",
     "start_time": "2019-06-08T18:52:51.570107Z"
    }
   },
   "outputs": [],
   "source": [
    "def define_array():\n",
    "    return numpy.arange(1, 4**4 + 1).reshape((4,4,4,4))"
   ]
  },
  {
   "cell_type": "code",
   "execution_count": 4,
   "metadata": {
    "ExecuteTime": {
     "end_time": "2019-06-08T18:52:51.714317Z",
     "start_time": "2019-06-08T18:52:51.711347Z"
    }
   },
   "outputs": [],
   "source": [
    "test_array = define_array()"
   ]
  },
  {
   "cell_type": "code",
   "execution_count": 5,
   "metadata": {
    "ExecuteTime": {
     "end_time": "2019-06-08T18:52:51.854243Z",
     "start_time": "2019-06-08T18:52:51.846090Z"
    }
   },
   "outputs": [
    {
     "data": {
      "text/plain": [
       "array([[  1,  17,  33,  49],\n",
       "       [ 65,  81,  97, 113],\n",
       "       [129, 145, 161, 177],\n",
       "       [193, 209, 225, 241]])"
      ]
     },
     "execution_count": 5,
     "metadata": {},
     "output_type": "execute_result"
    }
   ],
   "source": [
    "test_array[:,:,0,0] # notice that arrays in Python are 0-indexed, whereas arrays in Julia are 1-indexed"
   ]
  },
  {
   "cell_type": "markdown",
   "metadata": {},
   "source": [
    "Tensor network renormalization algorithms employ a singular value decomposition at some point in order to split a tensor into two parts."
   ]
  },
  {
   "cell_type": "markdown",
   "metadata": {},
   "source": [
    "A singular value decomposition is a decomposition of a matrix $M$, similar to the eigenvalue decomposition. The singular value decomposition is more general and can be applied to all matrices, e.g. with different numbers of rows and columns."
   ]
  },
  {
   "cell_type": "markdown",
   "metadata": {},
   "source": [
    "$M_{AB} = \\sum_{i=1}^N U_{Ai} \\lambda_i (V^\\dagger)_{iB}$"
   ]
  },
  {
   "cell_type": "markdown",
   "metadata": {},
   "source": [
    "Each matrix is split into two matrices of singular vectors, with a diagonal matrix of singular values $\\lambda_i$. The matrices $U$ and $V$ are unitary. The singular values $\\lambda_i$ are ordered in size $\\lambda_1 \\geq \\lambda_2 \\geq \\dots \\geq \\lambda_N$ and always greater or equal to zero."
   ]
  },
  {
   "cell_type": "markdown",
   "metadata": {},
   "source": [
    "We will use the latter fact to approximate a matrix, by a matrix of smaller rank by truncating the number of singular values. In fact this is the best possible approximation."
   ]
  },
  {
   "cell_type": "code",
   "execution_count": 8,
   "metadata": {
    "ExecuteTime": {
     "end_time": "2019-06-08T18:52:52.711144Z",
     "start_time": "2019-06-08T18:52:52.706054Z"
    }
   },
   "outputs": [
    {
     "data": {
      "text/plain": [
       "4"
      ]
     },
     "execution_count": 8,
     "metadata": {},
     "output_type": "execute_result"
    }
   ],
   "source": [
    "len(test_array[:,0,0,0]) # This returns the index range of the first index of test_array, also: test_array.shape[0]"
   ]
  },
  {
   "cell_type": "code",
   "execution_count": 9,
   "metadata": {
    "ExecuteTime": {
     "end_time": "2019-06-08T18:52:52.854759Z",
     "start_time": "2019-06-08T18:52:52.847694Z"
    }
   },
   "outputs": [],
   "source": [
    "def define_matrix(array: numpy.ndarray):\n",
    "    return array.reshape((16,16))"
   ]
  },
  {
   "cell_type": "code",
   "execution_count": 10,
   "metadata": {
    "ExecuteTime": {
     "end_time": "2019-06-08T18:52:53.014296Z",
     "start_time": "2019-06-08T18:52:53.011279Z"
    }
   },
   "outputs": [],
   "source": [
    "test_matrix = define_matrix(test_array)"
   ]
  },
  {
   "cell_type": "code",
   "execution_count": 11,
   "metadata": {
    "ExecuteTime": {
     "end_time": "2019-06-08T18:52:53.162915Z",
     "start_time": "2019-06-08T18:52:53.157281Z"
    }
   },
   "outputs": [
    {
     "data": {
      "text/plain": [
       "array([[  1,   2,   3,   4,   5,   6,   7,   8,   9,  10,  11,  12,  13,  14,  15,  16],\n",
       "       [ 17,  18,  19,  20,  21,  22,  23,  24,  25,  26,  27,  28,  29,  30,  31,  32],\n",
       "       [ 33,  34,  35,  36,  37,  38,  39,  40,  41,  42,  43,  44,  45,  46,  47,  48],\n",
       "       [ 49,  50,  51,  52,  53,  54,  55,  56,  57,  58,  59,  60,  61,  62,  63,  64],\n",
       "       [ 65,  66,  67,  68,  69,  70,  71,  72,  73,  74,  75,  76,  77,  78,  79,  80],\n",
       "       [ 81,  82,  83,  84,  85,  86,  87,  88,  89,  90,  91,  92,  93,  94,  95,  96],\n",
       "       [ 97,  98,  99, 100, 101, 102, 103, 104, 105, 106, 107, 108, 109, 110, 111, 112],\n",
       "       [113, 114, 115, 116, 117, 118, 119, 120, 121, 122, 123, 124, 125, 126, 127, 128],\n",
       "       [129, 130, 131, 132, 133, 134, 135, 136, 137, 138, 139, 140, 141, 142, 143, 144],\n",
       "       [145, 146, 147, 148, 149, 150, 151, 152, 153, 154, 155, 156, 157, 158, 159, 160],\n",
       "       [161, 162, 163, 164, 165, 166, 167, 168, 169, 170, 171, 172, 173, 174, 175, 176],\n",
       "       [177, 178, 179, 180, 181, 182, 183, 184, 185, 186, 187, 188, 189, 190, 191, 192],\n",
       "       [193, 194, 195, 196, 197, 198, 199, 200, 201, 202, 203, 204, 205, 206, 207, 208],\n",
       "       [209, 210, 211, 212, 213, 214, 215, 216, 217, 218, 219, 220, 221, 222, 223, 224],\n",
       "       [225, 226, 227, 228, 229, 230, 231, 232, 233, 234, 235, 236, 237, 238, 239, 240],\n",
       "       [241, 242, 243, 244, 245, 246, 247, 248, 249, 250, 251, 252, 253, 254, 255, 256]])"
      ]
     },
     "execution_count": 11,
     "metadata": {},
     "output_type": "execute_result"
    }
   ],
   "source": [
    "test_matrix"
   ]
  },
  {
   "cell_type": "markdown",
   "metadata": {},
   "source": [
    "Now we will split this matrix via a SVD. The algorithm is called `numpy.linalg.svd`"
   ]
  },
  {
   "cell_type": "code",
   "execution_count": 12,
   "metadata": {
    "ExecuteTime": {
     "end_time": "2019-06-08T18:52:53.454646Z",
     "start_time": "2019-06-08T18:52:53.445100Z"
    }
   },
   "outputs": [],
   "source": [
    "u, s, vh = numpy.linalg.svd(test_matrix)"
   ]
  },
  {
   "cell_type": "code",
   "execution_count": 13,
   "metadata": {
    "ExecuteTime": {
     "end_time": "2019-06-08T18:52:53.614019Z",
     "start_time": "2019-06-08T18:52:53.607146Z"
    }
   },
   "outputs": [
    {
     "data": {
      "text/plain": [
       "array([[-0.01454, -0.47721,  0.87826,  0.02659,  0.00138,  0.00060,  0.00229, -0.00145, -0.00081,  0.00049, -0.00090,  0.00013,  0.00023, -0.00078,  0.00011, -0.00010],\n",
       "       [-0.04152, -0.43016, -0.22940, -0.15451, -0.56897,  0.50976,  0.01737,  0.06293, -0.27682, -0.18165, -0.13803,  0.11110, -0.00585,  0.06244,  0.06274, -0.00038],\n",
       "       [-0.06850, -0.38312, -0.20885, -0.03212,  0.18812, -0.43933,  0.47300,  0.37627,  0.02678, -0.41526, -0.14990, -0.01215, -0.04321, -0.04242, -0.10194, -0.01830],\n",
       "       [-0.09547, -0.33607, -0.18186, -0.02257,  0.15410,  0.10300, -0.46629,  0.03127,  0.72191, -0.04251, -0.09215,  0.20507, -0.04909,  0.11362, -0.05105, -0.01282],\n",
       "       [-0.12245, -0.28902, -0.15569, -0.11126, -0.26261, -0.31009, -0.00882, -0.46950,  0.03522,  0.14825,  0.32312, -0.18798,  0.24920, -0.17553, -0.46865, -0.06092],\n",
       "       [-0.14943, -0.24198, -0.13290, -0.07267,  0.30788,  0.12255, -0.02626,  0.03207, -0.16141,  0.49673, -0.44753, -0.54024, -0.02917,  0.08838, -0.04348,  0.09570],\n",
       "       [-0.17641, -0.19493, -0.11449,  0.21489,  0.01641, -0.29771, -0.14398,  0.01703, -0.21474,  0.11780,  0.22812,  0.13616,  0.37215,  0.51213,  0.42855,  0.21607],\n",
       "       [-0.20339, -0.14788, -0.07986, -0.14752, -0.01927, -0.16993,  0.05205, -0.15930,  0.01457,  0.21822,  0.08316,  0.06132, -0.33022, -0.31194,  0.59458, -0.48261],\n",
       "       [-0.23036, -0.10084, -0.06440,  0.17841,  0.06476, -0.01483, -0.03716, -0.00812, -0.14182,  0.15852,  0.08859,  0.31972, -0.34715, -0.42875, -0.05338,  0.65759],\n",
       "       [-0.25734, -0.05379, -0.04869,  0.51026,  0.13032,  0.15255, -0.04931,  0.18011, -0.23229,  0.10977,  0.21014,  0.14573, -0.24165,  0.17408, -0.38657, -0.47274],\n",
       "       [-0.28432, -0.00674, -0.01451,  0.17070,  0.26843,  0.33616,  0.00969,  0.08678,  0.00680, -0.16834,  0.08098, -0.06887,  0.61977, -0.49625,  0.14011, -0.08598],\n",
       "       [-0.31130,  0.04030,  0.02365, -0.20097,  0.09448,  0.21878,  0.02984,  0.03668,  0.09327, -0.29840,  0.54522, -0.48817, -0.30152,  0.19115,  0.09028,  0.18046],\n",
       "       [-0.33827,  0.08735,  0.05611, -0.52334,  0.38270,  0.09770,  0.09925, -0.32463, -0.20887, -0.09532, -0.11438,  0.43243,  0.05642,  0.21496, -0.15764, -0.05128],\n",
       "       [-0.36525,  0.13440,  0.05392,  0.38465, -0.22230,  0.09957,  0.50505, -0.36277,  0.36223,  0.00210, -0.27145, -0.01655, -0.01424,  0.18354,  0.07627,  0.08235],\n",
       "       [-0.39223,  0.18144,  0.09074,  0.09023, -0.19235, -0.30557, -0.51148, -0.06623, -0.19901, -0.41096, -0.37772, -0.18560, -0.08139, -0.07958, -0.01403, -0.04157],\n",
       "       [-0.41921,  0.22849,  0.12797, -0.31076, -0.34309, -0.10320,  0.05478,  0.56885,  0.17500,  0.36056,  0.03273,  0.08790,  0.14573, -0.00505, -0.11590, -0.00548]])"
      ]
     },
     "execution_count": 13,
     "metadata": {},
     "output_type": "execute_result"
    }
   ],
   "source": [
    "u"
   ]
  },
  {
   "cell_type": "code",
   "execution_count": 14,
   "metadata": {
    "ExecuteTime": {
     "end_time": "2019-06-08T18:52:53.773553Z",
     "start_time": "2019-06-08T18:52:53.767153Z"
    }
   },
   "outputs": [
    {
     "data": {
      "text/plain": [
       "array([2371.46977,   36.70298,    0.00000,    0.00000,    0.00000,    0.00000,    0.00000,    0.00000,    0.00000,    0.00000,    0.00000,    0.00000,    0.00000,    0.00000,    0.00000,    0.00000])"
      ]
     },
     "execution_count": 14,
     "metadata": {},
     "output_type": "execute_result"
    }
   ],
   "source": [
    "s # returns S / vector of singular values\n",
    "# It drops off quickly!"
   ]
  },
  {
   "cell_type": "code",
   "execution_count": 15,
   "metadata": {
    "ExecuteTime": {
     "end_time": "2019-06-08T18:52:53.931344Z",
     "start_time": "2019-06-08T18:52:53.923177Z"
    }
   },
   "outputs": [
    {
     "data": {
      "text/plain": [
       "array([[-0.23893,  0.41334,  0.32828, -0.81403, -0.01760, -0.02410,  0.00280, -0.01864,  0.01497,  0.00261, -0.00858, -0.00028, -0.00140, -0.00626,  0.00737,  0.00047],\n",
       "       [-0.24040,  0.35913, -0.13914,  0.16630,  0.80068,  0.26551, -0.07009,  0.16925,  0.00480, -0.01867,  0.09362, -0.09541,  0.03694, -0.01308, -0.03606, -0.00079],\n",
       "       [-0.24186,  0.30492, -0.10611,  0.19579, -0.17660, -0.15736,  0.02206, -0.00691,  0.15784,  0.39657,  0.05486,  0.06213,  0.10344,  0.52523,  0.51446,  0.04657],\n",
       "       [-0.24332,  0.25070, -0.07037,  0.17086, -0.19752, -0.03140, -0.00515, -0.10836, -0.55472, -0.15663,  0.26890,  0.10310, -0.32160, -0.40223,  0.31423, -0.11350],\n",
       "       [-0.24479,  0.19649, -0.03662,  0.17038, -0.15814, -0.23973,  0.17401,  0.01184,  0.11390,  0.20320, -0.16350, -0.36624,  0.16686, -0.21740, -0.32592, -0.60145],\n",
       "       [-0.24625,  0.14228, -0.37987, -0.00878, -0.21824, -0.07786, -0.13691,  0.37627,  0.11572, -0.33133, -0.34787,  0.02928, -0.45051,  0.19714, -0.23283,  0.14020],\n",
       "       [-0.24771,  0.08806,  0.41109,  0.28529, -0.08239,  0.01369,  0.22279,  0.16919, -0.10531,  0.14089, -0.37850,  0.06676,  0.18477, -0.26769, -0.08158,  0.55150],\n",
       "       [-0.24918,  0.03385,  0.06951,  0.13127,  0.02064, -0.06877,  0.27304, -0.29061,  0.49184, -0.13482,  0.31054,  0.55854, -0.12643, -0.07689, -0.24505, -0.01073],\n",
       "       [-0.25064, -0.02036, -0.27488, -0.05054, -0.10596, -0.01517,  0.01108, -0.11790, -0.21228, -0.48957,  0.01283,  0.09349,  0.71775,  0.14212, -0.04957,  0.04116],\n",
       "       [-0.25210, -0.07457,  0.13773,  0.10224, -0.06692,  0.09600, -0.07256, -0.47828,  0.18534, -0.22983,  0.13470, -0.65667, -0.16957,  0.10039,  0.00978,  0.27980],\n",
       "       [-0.25357, -0.12879,  0.17392,  0.05963, -0.11639,  0.12139, -0.35839,  0.04737, -0.35502,  0.32315,  0.32517,  0.09555, -0.02577,  0.32147, -0.52630,  0.00410],\n",
       "       [-0.25503, -0.18300, -0.17047, -0.09583, -0.28351,  0.67245, -0.16700,  0.17815,  0.30460,  0.16618,  0.04715,  0.01557,  0.11671, -0.31124,  0.18017, -0.07227],\n",
       "       [-0.25649, -0.23721,  0.24503,  0.05817,  0.18598,  0.10724, -0.24354, -0.34302, -0.08596, -0.07265, -0.57521,  0.24547, -0.11289,  0.13877,  0.17785, -0.35218],\n",
       "       [-0.25796, -0.29143, -0.09617, -0.09508,  0.17659, -0.58494, -0.48715,  0.08784,  0.16812,  0.11778,  0.09444,  0.00343,  0.08800, -0.33496,  0.12889,  0.15572],\n",
       "       [-0.25942, -0.34564, -0.43957, -0.27619,  0.16706, -0.00900,  0.50234, -0.19163, -0.23181,  0.34289, -0.09814, -0.03589, -0.14560,  0.01410, -0.04871,  0.14379],\n",
       "       [-0.26088, -0.39985,  0.34763,  0.00054,  0.07233, -0.06795,  0.33266,  0.51544, -0.01203, -0.25977,  0.22961, -0.11881, -0.06068,  0.19052,  0.21326, -0.21238]])"
      ]
     },
     "execution_count": 15,
     "metadata": {},
     "output_type": "execute_result"
    }
   ],
   "source": [
    "vh.T"
   ]
  },
  {
   "cell_type": "markdown",
   "metadata": {},
   "source": [
    "We can reconstruct the matrix test_matrix from the SVD data"
   ]
  },
  {
   "cell_type": "code",
   "execution_count": 16,
   "metadata": {
    "ExecuteTime": {
     "end_time": "2019-06-08T18:52:54.699451Z",
     "start_time": "2019-06-08T18:52:54.689916Z"
    }
   },
   "outputs": [
    {
     "data": {
      "text/plain": [
       "array([[  1.00000,   2.00000,   3.00000,   4.00000,   5.00000,   6.00000,   7.00000,   8.00000,   9.00000,  10.00000,  11.00000,  12.00000,  13.00000,  14.00000,  15.00000,  16.00000],\n",
       "       [ 17.00000,  18.00000,  19.00000,  20.00000,  21.00000,  22.00000,  23.00000,  24.00000,  25.00000,  26.00000,  27.00000,  28.00000,  29.00000,  30.00000,  31.00000,  32.00000],\n",
       "       [ 33.00000,  34.00000,  35.00000,  36.00000,  37.00000,  38.00000,  39.00000,  40.00000,  41.00000,  42.00000,  43.00000,  44.00000,  45.00000,  46.00000,  47.00000,  48.00000],\n",
       "       [ 49.00000,  50.00000,  51.00000,  52.00000,  53.00000,  54.00000,  55.00000,  56.00000,  57.00000,  58.00000,  59.00000,  60.00000,  61.00000,  62.00000,  63.00000,  64.00000],\n",
       "       [ 65.00000,  66.00000,  67.00000,  68.00000,  69.00000,  70.00000,  71.00000,  72.00000,  73.00000,  74.00000,  75.00000,  76.00000,  77.00000,  78.00000,  79.00000,  80.00000],\n",
       "       [ 81.00000,  82.00000,  83.00000,  84.00000,  85.00000,  86.00000,  87.00000,  88.00000,  89.00000,  90.00000,  91.00000,  92.00000,  93.00000,  94.00000,  95.00000,  96.00000],\n",
       "       [ 97.00000,  98.00000,  99.00000, 100.00000, 101.00000, 102.00000, 103.00000, 104.00000, 105.00000, 106.00000, 107.00000, 108.00000, 109.00000, 110.00000, 111.00000, 112.00000],\n",
       "       [113.00000, 114.00000, 115.00000, 116.00000, 117.00000, 118.00000, 119.00000, 120.00000, 121.00000, 122.00000, 123.00000, 124.00000, 125.00000, 126.00000, 127.00000, 128.00000],\n",
       "       [129.00000, 130.00000, 131.00000, 132.00000, 133.00000, 134.00000, 135.00000, 136.00000, 137.00000, 138.00000, 139.00000, 140.00000, 141.00000, 142.00000, 143.00000, 144.00000],\n",
       "       [145.00000, 146.00000, 147.00000, 148.00000, 149.00000, 150.00000, 151.00000, 152.00000, 153.00000, 154.00000, 155.00000, 156.00000, 157.00000, 158.00000, 159.00000, 160.00000],\n",
       "       [161.00000, 162.00000, 163.00000, 164.00000, 165.00000, 166.00000, 167.00000, 168.00000, 169.00000, 170.00000, 171.00000, 172.00000, 173.00000, 174.00000, 175.00000, 176.00000],\n",
       "       [177.00000, 178.00000, 179.00000, 180.00000, 181.00000, 182.00000, 183.00000, 184.00000, 185.00000, 186.00000, 187.00000, 188.00000, 189.00000, 190.00000, 191.00000, 192.00000],\n",
       "       [193.00000, 194.00000, 195.00000, 196.00000, 197.00000, 198.00000, 199.00000, 200.00000, 201.00000, 202.00000, 203.00000, 204.00000, 205.00000, 206.00000, 207.00000, 208.00000],\n",
       "       [209.00000, 210.00000, 211.00000, 212.00000, 213.00000, 214.00000, 215.00000, 216.00000, 217.00000, 218.00000, 219.00000, 220.00000, 221.00000, 222.00000, 223.00000, 224.00000],\n",
       "       [225.00000, 226.00000, 227.00000, 228.00000, 229.00000, 230.00000, 231.00000, 232.00000, 233.00000, 234.00000, 235.00000, 236.00000, 237.00000, 238.00000, 239.00000, 240.00000],\n",
       "       [241.00000, 242.00000, 243.00000, 244.00000, 245.00000, 246.00000, 247.00000, 248.00000, 249.00000, 250.00000, 251.00000, 252.00000, 253.00000, 254.00000, 255.00000, 256.00000]])"
      ]
     },
     "execution_count": 16,
     "metadata": {},
     "output_type": "execute_result"
    }
   ],
   "source": [
    "numpy.dot(numpy.dot(u, numpy.diag(s)), vh)"
   ]
  },
  {
   "cell_type": "markdown",
   "metadata": {},
   "source": [
    "Let us try to approximate the matrix by another matrix of lower rank."
   ]
  },
  {
   "cell_type": "markdown",
   "metadata": {},
   "source": [
    "Let us start with rank 1."
   ]
  },
  {
   "cell_type": "code",
   "execution_count": 17,
   "metadata": {
    "ExecuteTime": {
     "end_time": "2019-06-08T18:52:56.004038Z",
     "start_time": "2019-06-08T18:52:55.995023Z"
    }
   },
   "outputs": [
    {
     "data": {
      "text/plain": [
       "array([[  8.23970,   8.29016,   8.34061,   8.39107,   8.44153,   8.49199,   8.54245,   8.59291,   8.64337,   8.69383,   8.74429,   8.79475,   8.84521,   8.89567,   8.94613,   8.99659],\n",
       "       [ 23.52596,  23.67003,  23.81410,  23.95817,  24.10224,  24.24632,  24.39039,  24.53446,  24.67853,  24.82260,  24.96667,  25.11074,  25.25482,  25.39889,  25.54296,  25.68703],\n",
       "       [ 38.81222,  39.04990,  39.28759,  39.52527,  39.76295,  40.00064,  40.23832,  40.47600,  40.71369,  40.95137,  41.18906,  41.42674,  41.66442,  41.90211,  42.13979,  42.37747],\n",
       "       [ 54.09848,  54.42978,  54.76107,  55.09237,  55.42366,  55.75496,  56.08626,  56.41755,  56.74885,  57.08014,  57.41144,  57.74273,  58.07403,  58.40533,  58.73662,  59.06792],\n",
       "       [ 69.38474,  69.80965,  70.23456,  70.65947,  71.08438,  71.50928,  71.93419,  72.35910,  72.78401,  73.20891,  73.63382,  74.05873,  74.48364,  74.90854,  75.33345,  75.75836],\n",
       "       [ 84.67101,  85.18953,  85.70805,  86.22657,  86.74509,  87.26361,  87.78213,  88.30065,  88.81917,  89.33769,  89.85620,  90.37472,  90.89324,  91.41176,  91.93028,  92.44880],\n",
       "       [ 99.95727, 100.56940, 101.18153, 101.79366, 102.40580, 103.01793, 103.63006, 104.24219, 104.85432, 105.46646, 106.07859, 106.69072, 107.30285, 107.91498, 108.52712, 109.13925],\n",
       "       [115.24353, 115.94928, 116.65502, 117.36076, 118.06651, 118.77225, 119.47800, 120.18374, 120.88948, 121.59523, 122.30097, 123.00672, 123.71246, 124.41820, 125.12395, 125.82969],\n",
       "       [130.52979, 131.32915, 132.12851, 132.92786, 133.72722, 134.52657, 135.32593, 136.12529, 136.92464, 137.72400, 138.52335, 139.32271, 140.12207, 140.92142, 141.72078, 142.52013],\n",
       "       [145.81606, 146.70902, 147.60199, 148.49496, 149.38793, 150.28090, 151.17386, 152.06683, 152.95980, 153.85277, 154.74574, 155.63871, 156.53167, 157.42464, 158.31761, 159.21058],\n",
       "       [161.10232, 162.08890, 163.07548, 164.06206, 165.04864, 166.03522, 167.02180, 168.00838, 168.99496, 169.98154, 170.96812, 171.95470, 172.94128, 173.92786, 174.91444, 175.90102],\n",
       "       [176.38858, 177.46877, 178.54896, 179.62916, 180.70935, 181.78954, 182.86973, 183.94993, 185.03012, 186.11031, 187.19050, 188.27070, 189.35089, 190.43108, 191.51127, 192.59146],\n",
       "       [191.67484, 192.84865, 194.02245, 195.19626, 196.37006, 197.54386, 198.71767, 199.89147, 201.06528, 202.23908, 203.41289, 204.58669, 205.76050, 206.93430, 208.10810, 209.28191],\n",
       "       [206.96110, 208.22852, 209.49594, 210.76335, 212.03077, 213.29819, 214.56560, 215.83302, 217.10044, 218.36785, 219.63527, 220.90269, 222.17010, 223.43752, 224.70494, 225.97235],\n",
       "       [222.24737, 223.60840, 224.96942, 226.33045, 227.69148, 229.05251, 230.41354, 231.77457, 233.13560, 234.49662, 235.85765, 237.21868, 238.57971, 239.94074, 241.30177, 242.66280],\n",
       "       [237.53363, 238.98827, 240.44291, 241.89755, 243.35219, 244.80683, 246.26147, 247.71611, 249.17075, 250.62540, 252.08004, 253.53468, 254.98932, 256.44396, 257.89860, 259.35324]])"
      ]
     },
     "execution_count": 17,
     "metadata": {},
     "output_type": "execute_result"
    }
   ],
   "source": [
    "numpy.outer(u[:,0] * s[0], vh[0,:]) # Notation is always a bit subtle\n",
    "# the transpose is necessary to create a matrix"
   ]
  },
  {
   "cell_type": "code",
   "execution_count": 18,
   "metadata": {
    "ExecuteTime": {
     "end_time": "2019-06-08T18:52:56.443337Z",
     "start_time": "2019-06-08T18:52:56.434185Z"
    }
   },
   "outputs": [
    {
     "data": {
      "text/plain": [
       "array([[  1.00000,   2.00000,   3.00000,   4.00000,   5.00000,   6.00000,   7.00000,   8.00000,   9.00000,  10.00000,  11.00000,  12.00000,  13.00000,  14.00000,  15.00000,  16.00000],\n",
       "       [ 17.00000,  18.00000,  19.00000,  20.00000,  21.00000,  22.00000,  23.00000,  24.00000,  25.00000,  26.00000,  27.00000,  28.00000,  29.00000,  30.00000,  31.00000,  32.00000],\n",
       "       [ 33.00000,  34.00000,  35.00000,  36.00000,  37.00000,  38.00000,  39.00000,  40.00000,  41.00000,  42.00000,  43.00000,  44.00000,  45.00000,  46.00000,  47.00000,  48.00000],\n",
       "       [ 49.00000,  50.00000,  51.00000,  52.00000,  53.00000,  54.00000,  55.00000,  56.00000,  57.00000,  58.00000,  59.00000,  60.00000,  61.00000,  62.00000,  63.00000,  64.00000],\n",
       "       [ 65.00000,  66.00000,  67.00000,  68.00000,  69.00000,  70.00000,  71.00000,  72.00000,  73.00000,  74.00000,  75.00000,  76.00000,  77.00000,  78.00000,  79.00000,  80.00000],\n",
       "       [ 81.00000,  82.00000,  83.00000,  84.00000,  85.00000,  86.00000,  87.00000,  88.00000,  89.00000,  90.00000,  91.00000,  92.00000,  93.00000,  94.00000,  95.00000,  96.00000],\n",
       "       [ 97.00000,  98.00000,  99.00000, 100.00000, 101.00000, 102.00000, 103.00000, 104.00000, 105.00000, 106.00000, 107.00000, 108.00000, 109.00000, 110.00000, 111.00000, 112.00000],\n",
       "       [113.00000, 114.00000, 115.00000, 116.00000, 117.00000, 118.00000, 119.00000, 120.00000, 121.00000, 122.00000, 123.00000, 124.00000, 125.00000, 126.00000, 127.00000, 128.00000],\n",
       "       [129.00000, 130.00000, 131.00000, 132.00000, 133.00000, 134.00000, 135.00000, 136.00000, 137.00000, 138.00000, 139.00000, 140.00000, 141.00000, 142.00000, 143.00000, 144.00000],\n",
       "       [145.00000, 146.00000, 147.00000, 148.00000, 149.00000, 150.00000, 151.00000, 152.00000, 153.00000, 154.00000, 155.00000, 156.00000, 157.00000, 158.00000, 159.00000, 160.00000],\n",
       "       [161.00000, 162.00000, 163.00000, 164.00000, 165.00000, 166.00000, 167.00000, 168.00000, 169.00000, 170.00000, 171.00000, 172.00000, 173.00000, 174.00000, 175.00000, 176.00000],\n",
       "       [177.00000, 178.00000, 179.00000, 180.00000, 181.00000, 182.00000, 183.00000, 184.00000, 185.00000, 186.00000, 187.00000, 188.00000, 189.00000, 190.00000, 191.00000, 192.00000],\n",
       "       [193.00000, 194.00000, 195.00000, 196.00000, 197.00000, 198.00000, 199.00000, 200.00000, 201.00000, 202.00000, 203.00000, 204.00000, 205.00000, 206.00000, 207.00000, 208.00000],\n",
       "       [209.00000, 210.00000, 211.00000, 212.00000, 213.00000, 214.00000, 215.00000, 216.00000, 217.00000, 218.00000, 219.00000, 220.00000, 221.00000, 222.00000, 223.00000, 224.00000],\n",
       "       [225.00000, 226.00000, 227.00000, 228.00000, 229.00000, 230.00000, 231.00000, 232.00000, 233.00000, 234.00000, 235.00000, 236.00000, 237.00000, 238.00000, 239.00000, 240.00000],\n",
       "       [241.00000, 242.00000, 243.00000, 244.00000, 245.00000, 246.00000, 247.00000, 248.00000, 249.00000, 250.00000, 251.00000, 252.00000, 253.00000, 254.00000, 255.00000, 256.00000]])"
      ]
     },
     "execution_count": 18,
     "metadata": {},
     "output_type": "execute_result"
    }
   ],
   "source": [
    "numpy.outer(u[:,0] * s[0], vh[0,:].T) + \\\n",
    "numpy.outer(u[:,1] * s[1], vh[1,:].T) # Python understand that you want to add two matrices (element-wise)"
   ]
  },
  {
   "cell_type": "markdown",
   "metadata": {},
   "source": [
    "## Simple Plot"
   ]
  },
  {
   "cell_type": "markdown",
   "metadata": {},
   "source": [
    "As a last step, let us plot something to test whether plot is working."
   ]
  },
  {
   "cell_type": "markdown",
   "metadata": {},
   "source": [
    "Let us just plot 10 random numbers"
   ]
  },
  {
   "cell_type": "code",
   "execution_count": 19,
   "metadata": {
    "ExecuteTime": {
     "end_time": "2019-06-08T18:54:20.780379Z",
     "start_time": "2019-06-08T18:54:20.606190Z"
    }
   },
   "outputs": [
    {
     "data": {
      "image/png": "[encoded data removed]",
      "text/plain": [
       "<Figure size 432x288 with 1 Axes>"
      ]
     },
     "metadata": {
      "needs_background": "light"
     },
     "output_type": "display_data"
    }
   ],
   "source": [
    "plt.plot(numpy.random.randn(10))\n",
    "plt.show() # if this plot looks ugly, there are alternative packages like bokeh and plotly"
   ]
  },
  {
   "cell_type": "code",
   "execution_count": 25,
   "metadata": {
    "ExecuteTime": {
     "end_time": "2019-06-08T18:55:05.708652Z",
     "start_time": "2019-06-08T18:55:05.704788Z"
    }
   },
   "outputs": [],
   "source": [
    "xs = numpy.arange(0, 2*numpy.pi, 0.01)\n",
    "y1 = numpy.cos(xs)\n",
    "y2 = numpy.sin(xs)"
   ]
  },
  {
   "cell_type": "code",
   "execution_count": 26,
   "metadata": {},
   "outputs": [
    {
     "data": {
      "image/png": "[encoded data removed]",
      "text/plain": [
       "<Figure size 432x288 with 1 Axes>"
      ]
     },
     "metadata": {
      "needs_background": "light"
     },
     "output_type": "display_data"
    }
   ],
   "source": [
    "plt.plot(xs, y1, color='blue')\n",
    "plt.plot(xs, y2, color='green');"
   ]
  },
  {
   "cell_type": "code",
   "execution_count": null,
   "metadata": {},
   "outputs": [],
   "source": []
  },
  {
   "cell_type": "code",
   "execution_count": null,
   "metadata": {},
   "outputs": [],
   "source": []
  }
 ],
 "metadata": {
  "@webio": {
   "lastCommId": null,
   "lastKernelId": null
  },
  "kernelspec": {
   "display_name": "Python 3",
   "language": "python",
   "name": "python3"
  },
  "language_info": {
   "codemirror_mode": {
    "name": "ipython",
    "version": 3
   },
   "file_extension": ".py",
   "mimetype": "text/x-python",
   "name": "python",
   "nbconvert_exporter": "python",
   "pygments_lexer": "ipython3",
   "version": "3.7.6"
  }
 },
 "nbformat": 4,
 "nbformat_minor": 2
}
