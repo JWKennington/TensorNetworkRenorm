{
 "cells": [
  {
   "cell_type": "markdown",
   "metadata": {},
   "source": [
    "# Tensor Network Renormalization Group for the 2D Ising model"
   ]
  },
  {
   "cell_type": "code",
   "execution_count": 6,
   "metadata": {
    "ExecuteTime": {
     "end_time": "2019-06-12T21:14:26.573339Z",
     "start_time": "2019-06-12T21:14:26.081343Z"
    }
   },
   "outputs": [],
   "source": [
    "import functools\n",
    "import matplotlib.pyplot as plt\n",
    "import numpy"
   ]
  },
  {
   "cell_type": "markdown",
   "metadata": {
    "ExecuteTime": {
     "end_time": "2019-06-11T20:40:31.805002Z",
     "start_time": "2019-06-11T20:40:31.800895Z"
    }
   },
   "source": [
    "Define the basic functions for the Ising model"
   ]
  },
  {
   "cell_type": "markdown",
   "metadata": {},
   "source": [
    "Define Kronecker Delta"
   ]
  },
  {
   "cell_type": "code",
   "execution_count": 7,
   "metadata": {
    "ExecuteTime": {
     "end_time": "2019-06-12T21:14:29.207811Z",
     "start_time": "2019-06-12T21:14:29.204949Z"
    }
   },
   "outputs": [],
   "source": [
    "def kronecker(i: int, j: int) -> int:\n",
    "    return int(i == j)"
   ]
  },
  {
   "cell_type": "code",
   "execution_count": 8,
   "metadata": {
    "ExecuteTime": {
     "end_time": "2019-06-12T21:14:29.571114Z",
     "start_time": "2019-06-12T21:14:29.565322Z"
    }
   },
   "outputs": [
    {
     "data": {
      "text/plain": [
       "(1, 0)"
      ]
     },
     "execution_count": 8,
     "metadata": {},
     "output_type": "execute_result"
    }
   ],
   "source": [
    "kronecker(1,1), kronecker(0,1)"
   ]
  },
  {
   "cell_type": "markdown",
   "metadata": {},
   "source": [
    "Define the weight functions of Ising model"
   ]
  },
  {
   "cell_type": "markdown",
   "metadata": {},
   "source": [
    "$Z_2$ has two representations, $k=0$ and $k=1$. The weight on an edge is $\\cosh(\\beta)$ for $k=0$, $\\sinh(\\beta)$ for $k=1$."
   ]
  },
  {
   "cell_type": "code",
   "execution_count": 9,
   "metadata": {
    "ExecuteTime": {
     "end_time": "2019-06-12T21:14:30.564061Z",
     "start_time": "2019-06-12T21:14:30.560914Z"
    }
   },
   "outputs": [],
   "source": [
    "def weight(beta: float, k: int) -> float:\n",
    "    return (1 - k) * numpy.cosh(beta) + k * numpy.sinh(beta)"
   ]
  },
  {
   "cell_type": "code",
   "execution_count": 10,
   "metadata": {
    "ExecuteTime": {
     "end_time": "2019-06-12T21:14:30.713387Z",
     "start_time": "2019-06-12T21:14:30.709537Z"
    }
   },
   "outputs": [
    {
     "data": {
      "text/plain": [
       "(1.0, 0.0, 1.1752011936438014)"
      ]
     },
     "execution_count": 10,
     "metadata": {},
     "output_type": "execute_result"
    }
   ],
   "source": [
    "weight(0, 0), weight(0, 1), weight(1, 1)"
   ]
  },
  {
   "cell_type": "markdown",
   "metadata": {},
   "source": [
    "Define the initial tensor"
   ]
  },
  {
   "cell_type": "markdown",
   "metadata": {},
   "source": [
    "The tensor is 4-valent, each edge carrying a representation of $Z_2$, and a square root of an edge weight (for $\\beta$ and $k$). On the vertex, we have a Kronecker Delta of the sum of the 4 representations meeting at the vertex modulo 2; if this sum is 1, it vanishes."
   ]
  },
  {
   "cell_type": "code",
   "execution_count": 11,
   "metadata": {
    "ExecuteTime": {
     "end_time": "2019-06-12T21:14:31.456940Z",
     "start_time": "2019-06-12T21:14:31.452070Z"
    }
   },
   "outputs": [],
   "source": [
    "def tensor(beta: float, m: int = 2):\n",
    "    r = numpy.arange(0, m) # give us the [0, 1] range which we'll use for each axis\n",
    "    iv, jv, kv, lv = numpy.meshgrid(*(4*[r])) # compute vectorized \"index\" tensors - numerical\n",
    "    # trick for making this recipe a few orders of magnitude faster\n",
    "    raw = numpy.sqrt(weight(beta, iv) * weight(beta, jv) * weight(beta, kv) * weight(beta, lv))\n",
    "    delta_mask = 1 - ((iv + jv + kv + lv) % m)\n",
    "    return delta_mask * raw"
   ]
  },
  {
   "cell_type": "code",
   "execution_count": 14,
   "metadata": {
    "ExecuteTime": {
     "end_time": "2019-06-12T21:17:27.602720Z",
     "start_time": "2019-06-12T21:17:27.595206Z"
    }
   },
   "outputs": [
    {
     "data": {
      "text/plain": [
       "array([[[[2.38109785, 0.        ],\n",
       "         [0.        , 1.8134302 ]],\n",
       "\n",
       "        [[0.        , 1.8134302 ],\n",
       "         [1.8134302 , 0.        ]]],\n",
       "\n",
       "\n",
       "       [[[0.        , 1.8134302 ],\n",
       "         [1.8134302 , 0.        ]],\n",
       "\n",
       "        [[1.8134302 , 0.        ],\n",
       "         [0.        , 1.38109785]]]])"
      ]
     },
     "execution_count": 14,
     "metadata": {},
     "output_type": "execute_result"
    }
   ],
   "source": [
    "t = tensor(beta=1.0)\n",
    "t"
   ]
  },
  {
   "cell_type": "code",
   "execution_count": 13,
   "metadata": {
    "ExecuteTime": {
     "end_time": "2019-06-12T21:14:32.769878Z",
     "start_time": "2019-06-12T21:14:32.765648Z"
    }
   },
   "outputs": [
    {
     "data": {
      "text/plain": [
       "2"
      ]
     },
     "execution_count": 13,
     "metadata": {},
     "output_type": "execute_result"
    }
   ],
   "source": [
    "len(t[:,0,0,0])"
   ]
  },
  {
   "cell_type": "markdown",
   "metadata": {},
   "source": [
    "Splitting tensors for the singular value decomposition"
   ]
  },
  {
   "cell_type": "markdown",
   "metadata": {},
   "source": [
    "This will be similar to the introductory Julia File. We pair the indices of the tensor in the way we want to split it, and define a matrix. On this matrix we will apply a singular value decomposition, truncate here at 2 singular values, and define new 3-valent tensors from it."
   ]
  },
  {
   "cell_type": "markdown",
   "metadata": {},
   "source": [
    "Translating back just means splitting the combined index again into two separate ones."
   ]
  },
  {
   "cell_type": "markdown",
   "metadata": {},
   "source": [
    "The function should return two 3-valent tensors and a list of singular values."
   ]
  },
  {
   "cell_type": "markdown",
   "metadata": {},
   "source": [
    "Normalize the singular values with respect to the largest one (so the largest singular value is always one)."
   ]
  },
  {
   "cell_type": "code",
   "execution_count": null,
   "metadata": {},
   "outputs": [],
   "source": []
  },
  {
   "cell_type": "code",
   "execution_count": null,
   "metadata": {},
   "outputs": [],
   "source": []
  },
  {
   "cell_type": "code",
   "execution_count": null,
   "metadata": {},
   "outputs": [],
   "source": []
  },
  {
   "cell_type": "markdown",
   "metadata": {},
   "source": [
    "We need to the same again, but this time for the other splitting."
   ]
  },
  {
   "cell_type": "code",
   "execution_count": null,
   "metadata": {},
   "outputs": [],
   "source": []
  },
  {
   "cell_type": "code",
   "execution_count": null,
   "metadata": {},
   "outputs": [],
   "source": []
  },
  {
   "cell_type": "markdown",
   "metadata": {},
   "source": [
    "To get the new effective tensor, we now have to contract the fine degrees of freedom."
   ]
  },
  {
   "cell_type": "code",
   "execution_count": null,
   "metadata": {},
   "outputs": [],
   "source": []
  },
  {
   "cell_type": "code",
   "execution_count": null,
   "metadata": {},
   "outputs": [],
   "source": []
  },
  {
   "cell_type": "markdown",
   "metadata": {},
   "source": [
    "To compute the flow of renormalized tensors, we have to iterate these procedures a few times. We write this into a main function."
   ]
  },
  {
   "cell_type": "markdown",
   "metadata": {},
   "source": [
    "We have to specify the number of iterations of the algorithm, then define the initial tensor. We can pass $\\beta$ as a parameter of the main function."
   ]
  },
  {
   "cell_type": "markdown",
   "metadata": {},
   "source": [
    "Then we do a for loop, in which we do the first splitting, second splitting and then contract the new three valent tensor. Then we repeat.\n",
    "\n",
    "For each iteration we should store the singular values computed in the singular value decomposition. We will afterwards plot them to distinguish the phases of the Ising model and finding the phase transition."
   ]
  },
  {
   "cell_type": "code",
   "execution_count": null,
   "metadata": {},
   "outputs": [],
   "source": []
  },
  {
   "cell_type": "code",
   "execution_count": null,
   "metadata": {},
   "outputs": [],
   "source": []
  },
  {
   "cell_type": "code",
   "execution_count": null,
   "metadata": {},
   "outputs": [],
   "source": []
  },
  {
   "cell_type": "code",
   "execution_count": null,
   "metadata": {},
   "outputs": [],
   "source": []
  },
  {
   "cell_type": "code",
   "execution_count": null,
   "metadata": {},
   "outputs": [],
   "source": []
  }
 ],
 "metadata": {
  "@webio": {
   "lastCommId": null,
   "lastKernelId": null
  },
  "kernelspec": {
   "display_name": "Python 3",
   "language": "python",
   "name": "python3"
  },
  "language_info": {
   "codemirror_mode": {
    "name": "ipython",
    "version": 3
   },
   "file_extension": ".py",
   "mimetype": "text/x-python",
   "name": "python",
   "nbconvert_exporter": "python",
   "pygments_lexer": "ipython3",
   "version": "3.7.3"
  }
 },
 "nbformat": 4,
 "nbformat_minor": 2
}
